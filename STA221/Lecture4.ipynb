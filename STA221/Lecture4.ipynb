{
 "cells": [
  {
   "cell_type": "markdown",
   "metadata": {},
   "source": [
    "PCA on IRIS dataset"
   ]
  },
  {
   "cell_type": "code",
   "execution_count": 11,
   "metadata": {},
   "outputs": [],
   "source": [
    "import pandas as pd\n",
    "import matplotlib.pyplot as plt\n",
    "url = \"http://archive.ics.uci.edu/ml/machine-learning-databases/iris/iris.data\"\n",
    "# load dataset into Pandas DataFrame\n",
    "df = pd.read_csv(url, names=['sepal length','sepal width','petal length','petal width','target'])"
   ]
  },
  {
   "cell_type": "code",
   "execution_count": 12,
   "metadata": {},
   "outputs": [],
   "source": [
    "from sklearn.preprocessing import StandardScaler\n",
    "features = ['sepal length', 'sepal width', 'petal length', 'petal width']\n",
    "# Separating out the features\n",
    "x = df.loc[:, features].values\n",
    "# Separating out the target\n",
    "y = df.loc[:,['target']].values\n",
    "# Standardizing the features\n",
    "x = StandardScaler().fit_transform(x)\n",
    "\n"
   ]
  },
  {
   "cell_type": "code",
   "execution_count": 13,
   "metadata": {},
   "outputs": [
    {
     "data": {
      "text/plain": [
       "array([-1.14301691, -0.1249576 , -1.3412724 , -1.31297673])"
      ]
     },
     "execution_count": 13,
     "metadata": {},
     "output_type": "execute_result"
    }
   ],
   "source": [
    "x[1] ## just one example of the features: sepal length, sepal width, petal length, and petal width"
   ]
  },
  {
   "cell_type": "code",
   "execution_count": 14,
   "metadata": {},
   "outputs": [],
   "source": [
    "from sklearn.decomposition import PCA\n",
    "pca = PCA(n_components=2)\n",
    "principalComponents = pca.fit_transform(x) ## transforming the data into PC coordinates.\n",
    "principalDf = pd.DataFrame(data = principalComponents\n",
    "             , columns = ['principal component 1', 'principal component 2'])"
   ]
  },
  {
   "cell_type": "code",
   "execution_count": 15,
   "metadata": {},
   "outputs": [],
   "source": [
    "finalDf = pd.concat([principalDf, df[['target']]], axis = 1)"
   ]
  },
  {
   "cell_type": "code",
   "execution_count": 16,
   "metadata": {},
   "outputs": [
    {
     "data": {
      "image/png": "[encoded data removed]",
      "text/plain": [
       "<Figure size 576x576 with 1 Axes>"
      ]
     },
     "metadata": {
      "needs_background": "light"
     },
     "output_type": "display_data"
    }
   ],
   "source": [
    "fig = plt.figure(figsize = (8,8))\n",
    "ax = fig.add_subplot(1,1,1) \n",
    "ax.set_xlabel('Principal Component 1', fontsize = 15)\n",
    "ax.set_ylabel('Principal Component 2', fontsize = 15)\n",
    "ax.set_title('2 component PCA', fontsize = 20)\n",
    "targets = ['Iris-setosa', 'Iris-versicolor', 'Iris-virginica']\n",
    "colors = ['r', 'g', 'b']\n",
    "for target, color in zip(targets,colors):\n",
    "    indicesToKeep = finalDf['target'] == target\n",
    "    ax.scatter(finalDf.loc[indicesToKeep, 'principal component 1']\n",
    "               , finalDf.loc[indicesToKeep, 'principal component 2']\n",
    "               , c = color\n",
    "               , s = 50)\n",
    "ax.legend(targets)\n",
    "ax.grid()"
   ]
  },
  {
   "cell_type": "markdown",
   "metadata": {},
   "source": [
    "## Word2Vec"
   ]
  },
  {
   "cell_type": "code",
   "execution_count": 7,
   "metadata": {},
   "outputs": [],
   "source": [
    "from gensim.models import Word2Vec ### gensim is text modeling library in python - https://pypi.org/project/gensim/\n",
    "from sklearn.decomposition import PCA\n",
    "from matplotlib import pyplot\n",
    "# define training data\n",
    "sentences = [['this', 'is', 'the', 'first', 'sentence', 'for', 'word2vec'],\n",
    "\t\t\t['this', 'is', 'the', 'second', 'sentence'],\n",
    "\t\t\t['yet', 'another', 'sentence'],\n",
    "\t\t\t['one', 'more', 'sentence'],\n",
    "\t\t\t['and', 'the', 'final', 'sentence']]\n",
    "# train model\n",
    "model = Word2Vec(sentences, min_count=1)"
   ]
  },
  {
   "cell_type": "code",
   "execution_count": 10,
   "metadata": {},
   "outputs": [
    {
     "name": "stdout",
     "output_type": "stream",
     "text": [
      "Word2Vec(vocab=14, size=100, alpha=0.025)\n"
     ]
    }
   ],
   "source": [
    "print(model)\n",
    "\n",
    "# Size refers to the dimension of the dense vector that is used to represent each word.\n",
    "# Alpha is a parameter of an internal algorithm used in gensim package (https://stackoverflow.com/questions/53815402/value-of-alpha-in-gensim-word-embedding-word2vec-and-fasttext-models)"
   ]
  },
  {
   "cell_type": "code",
   "execution_count": 9,
   "metadata": {},
   "outputs": [
    {
     "name": "stdout",
     "output_type": "stream",
     "text": [
      "[ 2.4850357e-03 -2.7836503e-03 -2.1972102e-03  3.6662456e-03\n",
      "  2.7844720e-04  1.6567048e-04  7.5183267e-04  1.0815326e-03\n",
      " -4.5256340e-03 -4.7082696e-03 -1.4496031e-03 -7.1663782e-04\n",
      "  4.5231772e-03 -1.3271503e-03  4.0758253e-04 -7.8734756e-04\n",
      "  2.9391153e-03  3.3678899e-03  1.3548627e-03 -4.3241140e-03\n",
      " -3.6298828e-03  3.0306431e-03  1.8345094e-03 -2.5968153e-03\n",
      " -3.9125849e-03  2.4807558e-03 -4.6531297e-04  4.5197769e-03\n",
      "  4.9726595e-03  1.3602386e-03  4.5611016e-03  4.0292749e-03\n",
      "  4.0784790e-03 -4.1512279e-03  3.8302417e-03 -8.6300097e-05\n",
      " -2.5544968e-03  3.8528778e-03 -1.6742393e-03 -5.9372338e-05\n",
      " -4.8704203e-03 -3.1101194e-03  4.7401125e-03  2.1633317e-03\n",
      "  2.1523000e-03  2.8845638e-03  3.2064114e-03 -2.0620883e-03\n",
      "  3.9502233e-03 -2.1030373e-04  3.9464668e-03  4.3254588e-03\n",
      " -1.7148679e-03 -4.9000881e-03  2.1977457e-03  2.6927679e-03\n",
      " -4.9744863e-03 -4.8170434e-03 -2.1145206e-03  1.4329383e-03\n",
      "  1.8613709e-03  5.0005963e-07  3.9275587e-03  1.7984145e-03\n",
      " -1.0347790e-03 -1.1106950e-03 -1.7724143e-03  4.6091042e-03\n",
      " -4.1114585e-03 -2.4734722e-03  2.9955541e-03 -1.1387081e-03\n",
      "  2.4322555e-03 -4.2185658e-03 -2.2754585e-03 -4.9123056e-03\n",
      " -2.4541242e-03  3.2061283e-04  2.7592066e-03 -2.9191594e-03\n",
      " -3.0274966e-03  4.3034120e-03  3.1317368e-03  2.6331728e-03\n",
      " -1.8179704e-03  4.2723469e-04  2.1623778e-03 -8.3759055e-04\n",
      "  2.8881568e-03  1.9202144e-03  3.3478984e-03 -2.9464327e-03\n",
      "  2.9418904e-03 -6.9637568e-04 -2.8818387e-03 -3.7686438e-03\n",
      "  3.2122331e-03  3.1177497e-03  4.2326190e-03 -3.0768234e-03]\n"
     ]
    },
    {
     "name": "stderr",
     "output_type": "stream",
     "text": [
      "/anaconda3/lib/python3.7/site-packages/ipykernel_launcher.py:1: DeprecationWarning: Call to deprecated `__getitem__` (Method will be removed in 4.0.0, use self.wv.__getitem__() instead).\n",
      "  \"\"\"Entry point for launching an IPython kernel.\n"
     ]
    }
   ],
   "source": [
    "print(model['sentence'])\n"
   ]
  },
  {
   "cell_type": "code",
   "execution_count": 4,
   "metadata": {},
   "outputs": [
    {
     "name": "stdout",
     "output_type": "stream",
     "text": [
      "[-2.97122705e-03 -2.98463507e-03  4.91221808e-03  3.59893171e-03\n",
      " -2.33709184e-03 -2.59451056e-03 -4.67358716e-03 -3.46905179e-03\n",
      "  3.65783065e-03  2.16608125e-04  3.85173922e-03 -2.27167993e-03\n",
      " -6.40832804e-05  1.53642776e-03 -2.36151065e-03  2.82058865e-03\n",
      "  3.49080376e-03 -1.85227080e-03  4.48512379e-03 -1.66845089e-03\n",
      " -4.70533408e-03  4.56742570e-03 -5.81947388e-04 -1.60566519e-03\n",
      "  2.48149596e-03 -4.16748738e-03 -3.64961778e-03  3.57164955e-03\n",
      " -4.79584523e-05  2.20308872e-03 -2.78267055e-03  2.54647480e-03\n",
      " -8.96013516e-04  3.61939310e-03  1.35243358e-03  1.97033281e-03\n",
      " -4.28840891e-03 -3.99748515e-03 -2.13242456e-04 -3.73672182e-03\n",
      " -4.52639442e-03  7.27405713e-04  4.56154300e-03  1.99935818e-03\n",
      " -3.40363272e-06  1.15232964e-04 -9.87029751e-04  4.91640111e-03\n",
      " -1.43582933e-03  4.19210969e-03  1.37011579e-03 -4.44544433e-03\n",
      " -2.07218039e-03  2.70943926e-03 -4.46897512e-03  3.11811105e-03\n",
      "  4.59873700e-04  2.28413544e-03  9.07240683e-05  2.98239989e-03\n",
      " -4.72270232e-03 -3.15039302e-03 -2.95948982e-03  2.37276498e-03\n",
      "  8.24523449e-04  1.51292863e-03 -7.69279082e-04 -4.91760904e-03\n",
      "  2.10787077e-03 -2.29731388e-03  1.45009137e-03 -3.81378899e-03\n",
      "  4.41753166e-03  1.18765817e-03 -1.92437950e-03  1.04147627e-03\n",
      "  3.65074561e-03  1.72887056e-03  4.68948303e-04 -1.97261316e-03\n",
      "  3.36471945e-03  4.24339343e-03 -4.11061617e-03  2.46094237e-03\n",
      "  4.21839533e-03  4.51102201e-03  1.99007592e-03 -2.72881147e-03\n",
      " -4.86842915e-03  3.83917941e-03  1.87601137e-03 -3.57081764e-03\n",
      " -3.62066412e-03  1.21327571e-03 -3.87740292e-04 -4.81102988e-03\n",
      "  4.08102875e-04 -4.60520387e-03 -1.27672814e-04 -3.49899381e-03]\n"
     ]
    },
    {
     "name": "stderr",
     "output_type": "stream",
     "text": [
      "/anaconda3/lib/python3.7/site-packages/ipykernel_launcher.py:1: DeprecationWarning: Call to deprecated `__getitem__` (Method will be removed in 4.0.0, use self.wv.__getitem__() instead).\n",
      "  \"\"\"Entry point for launching an IPython kernel.\n"
     ]
    }
   ],
   "source": [
    "print(model['yet'])\n"
   ]
  },
  {
   "cell_type": "code",
   "execution_count": 11,
   "metadata": {},
   "outputs": [
    {
     "name": "stderr",
     "output_type": "stream",
     "text": [
      "/anaconda3/lib/python3.7/site-packages/ipykernel_launcher.py:2: DeprecationWarning: Call to deprecated `__getitem__` (Method will be removed in 4.0.0, use self.wv.__getitem__() instead).\n",
      "  \n"
     ]
    },
    {
     "data": {
      "image/png": "[encoded data removed]",
      "text/plain": [
       "<Figure size 432x288 with 1 Axes>"
      ]
     },
     "metadata": {
      "needs_background": "light"
     },
     "output_type": "display_data"
    }
   ],
   "source": [
    "# fit a 2d PCA model to the vectors\n",
    "X = model[model.wv.vocab]\n",
    "pca = PCA(n_components=2)\n",
    "result = pca.fit_transform(X)\n",
    "# create a scatter plot of the projection\n",
    "pyplot.scatter(result[:, 0], result[:, 1])\n",
    "words = list(model.wv.vocab)\n",
    "for i, word in enumerate(words):\n",
    "\tpyplot.annotate(word, xy=(result[i, 0], result[i, 1]))\n",
    "pyplot.show()"
   ]
  },
  {
   "cell_type": "markdown",
   "metadata": {},
   "source": [
    "More information and practical applications: https://www.freecodecamp.org/news/how-to-get-started-with-word2vec-and-then-how-to-make-it-work-d0a2fca9dad3/"
   ]
  },
  {
   "cell_type": "code",
   "execution_count": null,
   "metadata": {},
   "outputs": [],
   "source": []
  }
 ],
 "metadata": {
  "kernelspec": {
   "display_name": "Python 3",
   "language": "python",
   "name": "python3"
  },
  "language_info": {
   "codemirror_mode": {
    "name": "ipython",
    "version": 3
   },
   "file_extension": ".py",
   "mimetype": "text/x-python",
   "name": "python",
   "nbconvert_exporter": "python",
   "pygments_lexer": "ipython3",
   "version": "3.7.1"
  }
 },
 "nbformat": 4,
 "nbformat_minor": 2
}
